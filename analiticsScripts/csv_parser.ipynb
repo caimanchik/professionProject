{
 "cells": [
  {
   "cell_type": "code",
   "execution_count": 2,
   "outputs": [],
   "source": [
    "import math\n",
    "\n",
    "import pandas as pd\n",
    "from multiprocess import Pool\n",
    "import numpy as np\n",
    "import os\n",
    "from graph import Graph"
   ],
   "metadata": {
    "collapsed": false
   }
  },
  {
   "cell_type": "code",
   "execution_count": 3,
   "outputs": [],
   "source": [
    "df = pd.read_csv('csv_files/vacancies_with_skills.csv', encoding='utf-8-sig', low_memory=False)\n",
    "convert = pd.read_csv('csv_files/convert.csv', encoding='utf-8-sig')"
   ],
   "metadata": {
    "collapsed": false
   }
  },
  {
   "cell_type": "code",
   "execution_count": 4,
   "outputs": [],
   "source": [
    "def separate_by_years():\n",
    "    path = 'csv_files/separated'\n",
    "\n",
    "    if not os.path.isdir(path):\n",
    "        os.mkdir(path)\n",
    "\n",
    "    df['year'] = df.published_at.apply(lambda x: x[:4])\n",
    "\n",
    "    for (year), data in df.groupby('year'):\n",
    "        data.loc[:, data.columns != 'year'].to_csv(f'csv_files/separated/{year}.csv', index=False)\n",
    "\n",
    "separate_by_years()"
   ],
   "metadata": {
    "collapsed": false
   }
  },
  {
   "cell_type": "code",
   "execution_count": 5,
   "outputs": [],
   "source": [
    "class Result:\n",
    "\n",
    "    def __init__(self):\n",
    "        self.salaries = {}\n",
    "        self.salaries_vac = {}\n",
    "        self.count = {}\n",
    "        self.count_vac = {}\n",
    "        self.area_sal = {}\n",
    "        self.area_count = {}\n",
    "\n",
    "\n",
    "class ResultYear:\n",
    "\n",
    "    def __init__(self, year, count, salary, count_filter, salary_filter, data = None, filtered = None):\n",
    "        self.year = year\n",
    "        self.count = count\n",
    "        self.salary = salary\n",
    "        self.count_filter = count_filter\n",
    "        self.salary_filter = salary_filter\n",
    "        self.data = data\n",
    "        self.filtered = filtered"
   ],
   "metadata": {
    "collapsed": false
   }
  },
  {
   "cell_type": "code",
   "execution_count": 6,
   "outputs": [],
   "source": [
    "def get_salary(x, convert_df):\n",
    "    salary_from, salary_to, salary_currency, published_at = x['salary_from'], x['salary_to'], x['salary_currency'], x['published_at'][:7]\n",
    "    if salary_currency != 'RUR' and salary_currency not in convert_df.columns or math.isnan(salary_from) and math.isnan(salary_to):\n",
    "        return math.nan\n",
    "\n",
    "    k = 1\n",
    "\n",
    "    if salary_currency != 'RUR':\n",
    "        k = convert_df[convert_df['date'] == published_at][salary_currency].values[0]\n",
    "\n",
    "        if math.isnan(k):\n",
    "            return math.nan\n",
    "\n",
    "    salary = 0\n",
    "\n",
    "    if math.isnan(salary_from) or math.isnan(salary_to):\n",
    "        salary = salary_to if math.isnan(salary_from) else salary_from\n",
    "    else:\n",
    "        salary = math.floor((salary_from + salary_to) / 2)\n",
    "\n",
    "    return math.floor(salary * k)\n",
    "\n",
    "\n",
    "def handle_year(f, convert_df, filter_copied):\n",
    "    data = pd.read_csv(f'csv_files/separated/{f}', encoding='utf-8-sig', low_memory=False)\n",
    "\n",
    "    data['salary'] = data.apply(lambda x: get_salary(x, convert_df) if x['published_at'] not in ['2005-02-08T11:11:17+0300', '2005-08-15T13:22:01+0400'] else math.nan, axis=1)\n",
    "\n",
    "    data.drop(columns=['salary_from', 'salary_to', 'salary_currency'])\n",
    "    data = data.reindex(columns=['name', 'salary', 'area_name', 'published_at', 'key_skills'], copy=True)\n",
    "    filtered = data[data['name'].str.lower().str.replace(' ', '').str.contains(filter_copied)]\n",
    "\n",
    "    return ResultYear(data['published_at'].values[0][:4], data.shape[0], math.floor(data['salary'].mean()), filtered.shape[0], math.floor(filtered['salary'].mean()), data, filtered)"
   ],
   "metadata": {
    "collapsed": false
   }
  },
  {
   "cell_type": "code",
   "execution_count": 7,
   "outputs": [],
   "source": [
    "processes = []\n",
    "data_arr = []\n",
    "result = Result()\n",
    "\n",
    "filter_names = ['web develop', 'веб разработчик', 'web разработчик', 'web programmer', 'web программист', 'веб программист', 'битрикс разработчик', 'bitrix разработчик', 'drupal разработчик', 'cms разработчик', 'wordpress разработчик', 'wp разработчик', 'joomla разработчик', 'drupal developer', 'cms developer', 'wordpress developer', 'wp developer', 'joomla developer', 'web developer', 'разработчик web', 'web-программист', 'web-разработчик']\n",
    "filter_row = '|'.join(filter_names).replace(' ', '')\n",
    "files = os.listdir('csv_files/separated')\n",
    "args = map(lambda x: (x, convert.copy(deep=True), filter_row), files)\n",
    "\n",
    "with Pool(processes = len(files)) as pool:\n",
    "    for result_year in pool.starmap(handle_year, args):\n",
    "        result.salaries[result_year.year] = result_year.salary\n",
    "        result.salaries_vac[result_year.year] = result_year.salary_filter\n",
    "        result.count[result_year.year] = result_year.count\n",
    "        result.count_vac[result_year.year] = result_year.count_filter\n",
    "        data_arr.append(result_year)\n",
    "\n",
    "    result.salaries = dict(sorted(result.salaries.items(), key=lambda x: x[0]))\n",
    "    result.salaries_vac = dict(sorted(result.salaries_vac.items(), key=lambda x: x[0]))\n",
    "    result.count = dict(sorted(result.count.items(), key=lambda x: x[0]))\n",
    "    result.count_vac = dict(sorted(result.count_vac.items(), key=lambda x: x[0]))"
   ],
   "metadata": {
    "collapsed": false
   }
  },
  {
   "cell_type": "code",
   "execution_count": 8,
   "outputs": [],
   "source": [
    "data_with_salary = pd.concat(map(lambda x: x.data, data_arr))\n",
    "count = data_with_salary.shape[0]\n",
    "percent = count / 100\n",
    "\n",
    "correct_cities = data_with_salary \\\n",
    "    .groupby('area_name')['name'] \\\n",
    "    .count() \\\n",
    "    .loc[lambda x: x > percent]\n",
    "\n",
    "result.area_count = (correct_cities.sort_values(ascending=False) / count).to_dict().items()\n",
    "\n",
    "result.area_sal = data_with_salary.loc[data_with_salary.area_name.isin(correct_cities.index)] \\\n",
    "    .groupby('area_name')['salary'] \\\n",
    "    .mean() \\\n",
    "    .apply(lambda x: math.floor(x)) \\\n",
    "    .sort_values(ascending=False) \\\n",
    "    .head(10) \\\n",
    "    .to_dict()\n"
   ],
   "metadata": {
    "collapsed": false
   }
  },
  {
   "cell_type": "code",
   "execution_count": 9,
   "outputs": [
    {
     "name": "stdout",
     "output_type": "stream",
     "text": [
      "{'2003': 41304, '2004': 42967, '2005': 44938, '2006': 41317, '2007': 44449, '2008': 48411, '2009': 44811, '2010': 44657, '2011': 46448, '2012': 47969, '2013': 53541, '2014': 49076, '2015': 51734, '2016': 61305, '2017': 60363, '2018': 65581, '2019': 69938, '2020': 72833, '2021': 83061, '2022': 95473}\n",
      "{'2003': 30318, '2004': 30209, '2005': 32089, '2006': 40923, '2007': 41119, '2008': 41776, '2009': 41269, '2010': 44884, '2011': 44970, '2012': 50454, '2013': 45528, '2014': 51206, '2015': 55777, '2016': 58280, '2017': 63581, '2018': 68357, '2019': 74418, '2020': 79103, '2021': 95131, '2022': 101579}\n",
      "{'2003': 1983, '2004': 7833, '2005': 16022, '2006': 33321, '2007': 53562, '2008': 75070, '2009': 52889, '2010': 93494, '2011': 142458, '2012': 173897, '2013': 234019, '2014': 259571, '2015': 284763, '2016': 332460, '2017': 391464, '2018': 517670, '2019': 535956, '2020': 489472, '2021': 287915, '2022': 91142}\n",
      "{'2003': 14, '2004': 63, '2005': 154, '2006': 568, '2007': 871, '2008': 1216, '2009': 1012, '2010': 1678, '2011': 3094, '2012': 3396, '2013': 5025, '2014': 4791, '2015': 5699, '2016': 7606, '2017': 8570, '2018': 9434, '2019': 7992, '2020': 5850, '2021': 2746, '2022': 690}\n"
     ]
    }
   ],
   "source": [
    "print(result.salaries)\n",
    "print(result.salaries_vac)\n",
    "print(result.count)\n",
    "print(result.count_vac)"
   ],
   "metadata": {
    "collapsed": false
   }
  },
  {
   "cell_type": "code",
   "execution_count": 10,
   "outputs": [
    {
     "data": {
      "text/plain": "[('Москва', 0.334026018899322),\n ('Санкт-Петербург', 0.10140489688122169),\n ('Минск', 0.04061388562982566),\n ('Киев', 0.032169142232281484),\n ('Новосибирск', 0.023631882611882666),\n ('Нижний Новгород', 0.02144437701366958),\n ('Екатеринбург', 0.019727059964500273),\n ('Алматы', 0.01892116268106615),\n ('Воронеж', 0.018596006194905916),\n ('Казань', 0.01856606725806701)]"
     },
     "execution_count": 10,
     "metadata": {},
     "output_type": "execute_result"
    }
   ],
   "source": [
    "list((correct_cities.sort_values(ascending=False) / count).to_dict().items())[:10]"
   ],
   "metadata": {
    "collapsed": false
   }
  },
  {
   "cell_type": "code",
   "execution_count": 11,
   "outputs": [
    {
     "data": {
      "text/plain": "dict_items([('Минск', 94092), ('Киев', 79895), ('Москва', 78957), ('Санкт-Петербург', 68747), ('Новосибирск', 64771), ('Екатеринбург', 59139), ('Краснодар', 51585), ('Казань', 51309), ('Нижний Новгород', 49914), ('Самара', 49548)])"
     },
     "execution_count": 11,
     "metadata": {},
     "output_type": "execute_result"
    }
   ],
   "source": [
    "result.area_sal.items()"
   ],
   "metadata": {
    "collapsed": false
   }
  },
  {
   "cell_type": "code",
   "execution_count": 298,
   "outputs": [
    {
     "ename": "TypeError",
     "evalue": "unsupported operand type(s) for +: 'int' and 'str'",
     "output_type": "error",
     "traceback": [
      "\u001B[0;31m---------------------------------------------------------------------------\u001B[0m",
      "\u001B[0;31mTypeError\u001B[0m                                 Traceback (most recent call last)",
      "Cell \u001B[0;32mIn[298], line 9\u001B[0m\n\u001B[1;32m      6\u001B[0m     s_filtered[year] \u001B[38;5;241m=\u001B[39m [result\u001B[38;5;241m.\u001B[39msalaries_vac[year], result\u001B[38;5;241m.\u001B[39mcount_vac[year]]\n\u001B[1;32m      8\u001B[0m image_generator \u001B[38;5;241m=\u001B[39m Graph(\u001B[38;5;124m'\u001B[39m\u001B[38;5;124mWeb-программист\u001B[39m\u001B[38;5;124m'\u001B[39m)\n\u001B[0;32m----> 9\u001B[0m \u001B[43mimage_generator\u001B[49m\u001B[38;5;241;43m.\u001B[39;49m\u001B[43mdraw\u001B[49m\u001B[43m(\u001B[49m\n\u001B[1;32m     10\u001B[0m \u001B[43m    \u001B[49m\u001B[43ms_all\u001B[49m\u001B[43m,\u001B[49m\n\u001B[1;32m     11\u001B[0m \u001B[43m    \u001B[49m\u001B[43ms_filtered\u001B[49m\u001B[43m,\u001B[49m\n\u001B[1;32m     12\u001B[0m \u001B[43m    \u001B[49m\u001B[38;5;28;43mlist\u001B[39;49m\u001B[43m(\u001B[49m\u001B[43mresult\u001B[49m\u001B[38;5;241;43m.\u001B[39;49m\u001B[43marea_count\u001B[49m\u001B[43m)\u001B[49m\u001B[43m,\u001B[49m\n\u001B[1;32m     13\u001B[0m \u001B[43m    \u001B[49m\u001B[38;5;28;43mlist\u001B[39;49m\u001B[43m(\u001B[49m\u001B[43mresult\u001B[49m\u001B[38;5;241;43m.\u001B[39;49m\u001B[43marea_sal\u001B[49m\u001B[38;5;241;43m.\u001B[39;49m\u001B[43mitems\u001B[49m\u001B[43m(\u001B[49m\u001B[43m)\u001B[49m\u001B[43m)\u001B[49m\u001B[43m,\u001B[49m\n\u001B[1;32m     14\u001B[0m \u001B[43m)\u001B[49m\n",
      "File \u001B[0;32m~/Documents/уник/python/тп/django/web_django/analiticsScripts/graph.py:49\u001B[0m, in \u001B[0;36mGraph.draw\u001B[0;34m(self, s_all, s_filtered, fract, cities_s)\u001B[0m\n\u001B[1;32m     39\u001B[0m Graph\u001B[38;5;241m.\u001B[39m__create_bar(\n\u001B[1;32m     40\u001B[0m     ax2,\n\u001B[1;32m     41\u001B[0m     s_all,\n\u001B[0;32m   (...)\u001B[0m\n\u001B[1;32m     45\u001B[0m     Graph\u001B[38;5;241m.\u001B[39m__titles[\u001B[38;5;241m1\u001B[39m]\n\u001B[1;32m     46\u001B[0m )\n\u001B[1;32m     48\u001B[0m Graph\u001B[38;5;241m.\u001B[39m__create_barh(ax3, cities_s[:\u001B[38;5;241m10\u001B[39m], Graph\u001B[38;5;241m.\u001B[39m__titles[\u001B[38;5;241m2\u001B[39m])\n\u001B[0;32m---> 49\u001B[0m \u001B[43mGraph\u001B[49m\u001B[38;5;241;43m.\u001B[39;49m\u001B[43m__create_pie\u001B[49m\u001B[43m(\u001B[49m\u001B[43max4\u001B[49m\u001B[43m,\u001B[49m\u001B[43m \u001B[49m\u001B[43mfract\u001B[49m\u001B[43m[\u001B[49m\u001B[43m:\u001B[49m\u001B[38;5;241;43m10\u001B[39;49m\u001B[43m]\u001B[49m\u001B[43m,\u001B[49m\u001B[43m \u001B[49m\u001B[43mGraph\u001B[49m\u001B[38;5;241;43m.\u001B[39;49m\u001B[43m__titles\u001B[49m\u001B[43m[\u001B[49m\u001B[38;5;241;43m3\u001B[39;49m\u001B[43m]\u001B[49m\u001B[43m)\u001B[49m\n\u001B[1;32m     51\u001B[0m fig\u001B[38;5;241m.\u001B[39mtight_layout()\n\u001B[1;32m     52\u001B[0m fig\u001B[38;5;241m.\u001B[39mset_size_inches(\u001B[38;5;241m8\u001B[39m, \u001B[38;5;241m6\u001B[39m)\n",
      "File \u001B[0;32m~/Documents/уник/python/тп/django/web_django/analiticsScripts/graph.py:104\u001B[0m, in \u001B[0;36mGraph.__create_pie\u001B[0;34m(ax, data, title)\u001B[0m\n\u001B[1;32m    101\u001B[0m \u001B[38;5;129m@staticmethod\u001B[39m\n\u001B[1;32m    102\u001B[0m \u001B[38;5;28;01mdef\u001B[39;00m \u001B[38;5;21m__create_pie\u001B[39m(ax, data: List[List[\u001B[38;5;28mfloat\u001B[39m]], title: \u001B[38;5;28mstr\u001B[39m):\n\u001B[1;32m    103\u001B[0m     cities \u001B[38;5;241m=\u001B[39m \u001B[38;5;28mlist\u001B[39m(\u001B[38;5;28mmap\u001B[39m(\u001B[38;5;28;01mlambda\u001B[39;00m x: x[\u001B[38;5;241m0\u001B[39m], data)) \u001B[38;5;241m+\u001B[39m [\u001B[38;5;124m'\u001B[39m\u001B[38;5;124mДругие\u001B[39m\u001B[38;5;124m'\u001B[39m]\n\u001B[0;32m--> 104\u001B[0m     others \u001B[38;5;241m=\u001B[39m \u001B[38;5;241m1\u001B[39m \u001B[38;5;241m-\u001B[39m \u001B[43mreduce\u001B[49m\u001B[43m(\u001B[49m\u001B[38;5;28;43;01mlambda\u001B[39;49;00m\u001B[43m \u001B[49m\u001B[43mx\u001B[49m\u001B[43m,\u001B[49m\u001B[43m \u001B[49m\u001B[43my\u001B[49m\u001B[43m:\u001B[49m\u001B[43m \u001B[49m\u001B[43mx\u001B[49m\u001B[43m \u001B[49m\u001B[38;5;241;43m+\u001B[39;49m\u001B[43m \u001B[49m\u001B[43my\u001B[49m\u001B[43m[\u001B[49m\u001B[38;5;241;43m1\u001B[39;49m\u001B[43m]\u001B[49m\u001B[43m,\u001B[49m\u001B[43m \u001B[49m\u001B[43mdata\u001B[49m\u001B[43m,\u001B[49m\u001B[43m \u001B[49m\u001B[38;5;241;43m0\u001B[39;49m\u001B[43m)\u001B[49m\n\u001B[1;32m    106\u001B[0m     ax\u001B[38;5;241m.\u001B[39mpie(\u001B[38;5;28mlist\u001B[39m(\u001B[38;5;28mmap\u001B[39m(\u001B[38;5;28;01mlambda\u001B[39;00m x: x[\u001B[38;5;241m1\u001B[39m], data)) \u001B[38;5;241m+\u001B[39m [others],\n\u001B[1;32m    107\u001B[0m            labels\u001B[38;5;241m=\u001B[39mcities, textprops\u001B[38;5;241m=\u001B[39m{\u001B[38;5;124m'\u001B[39m\u001B[38;5;124msize\u001B[39m\u001B[38;5;124m'\u001B[39m: \u001B[38;5;241m6\u001B[39m}, colors\u001B[38;5;241m=\u001B[39mmcolors\u001B[38;5;241m.\u001B[39mBASE_COLORS)\n\u001B[1;32m    109\u001B[0m     ax\u001B[38;5;241m.\u001B[39mset_title(title)\n",
      "File \u001B[0;32m~/Documents/уник/python/тп/django/web_django/analiticsScripts/graph.py:104\u001B[0m, in \u001B[0;36mGraph.__create_pie.<locals>.<lambda>\u001B[0;34m(x, y)\u001B[0m\n\u001B[1;32m    101\u001B[0m \u001B[38;5;129m@staticmethod\u001B[39m\n\u001B[1;32m    102\u001B[0m \u001B[38;5;28;01mdef\u001B[39;00m \u001B[38;5;21m__create_pie\u001B[39m(ax, data: List[List[\u001B[38;5;28mfloat\u001B[39m]], title: \u001B[38;5;28mstr\u001B[39m):\n\u001B[1;32m    103\u001B[0m     cities \u001B[38;5;241m=\u001B[39m \u001B[38;5;28mlist\u001B[39m(\u001B[38;5;28mmap\u001B[39m(\u001B[38;5;28;01mlambda\u001B[39;00m x: x[\u001B[38;5;241m0\u001B[39m], data)) \u001B[38;5;241m+\u001B[39m [\u001B[38;5;124m'\u001B[39m\u001B[38;5;124mДругие\u001B[39m\u001B[38;5;124m'\u001B[39m]\n\u001B[0;32m--> 104\u001B[0m     others \u001B[38;5;241m=\u001B[39m \u001B[38;5;241m1\u001B[39m \u001B[38;5;241m-\u001B[39m reduce(\u001B[38;5;28;01mlambda\u001B[39;00m x, y: \u001B[43mx\u001B[49m\u001B[43m \u001B[49m\u001B[38;5;241;43m+\u001B[39;49m\u001B[43m \u001B[49m\u001B[43my\u001B[49m\u001B[43m[\u001B[49m\u001B[38;5;241;43m1\u001B[39;49m\u001B[43m]\u001B[49m, data, \u001B[38;5;241m0\u001B[39m)\n\u001B[1;32m    106\u001B[0m     ax\u001B[38;5;241m.\u001B[39mpie(\u001B[38;5;28mlist\u001B[39m(\u001B[38;5;28mmap\u001B[39m(\u001B[38;5;28;01mlambda\u001B[39;00m x: x[\u001B[38;5;241m1\u001B[39m], data)) \u001B[38;5;241m+\u001B[39m [others],\n\u001B[1;32m    107\u001B[0m            labels\u001B[38;5;241m=\u001B[39mcities, textprops\u001B[38;5;241m=\u001B[39m{\u001B[38;5;124m'\u001B[39m\u001B[38;5;124msize\u001B[39m\u001B[38;5;124m'\u001B[39m: \u001B[38;5;241m6\u001B[39m}, colors\u001B[38;5;241m=\u001B[39mmcolors\u001B[38;5;241m.\u001B[39mBASE_COLORS)\n\u001B[1;32m    109\u001B[0m     ax\u001B[38;5;241m.\u001B[39mset_title(title)\n",
      "\u001B[0;31mTypeError\u001B[0m: unsupported operand type(s) for +: 'int' and 'str'"
     ]
    },
    {
     "data": {
      "text/plain": "<Figure size 640x480 with 4 Axes>",
      "image/png": "[encoded data removed]"
     },
     "metadata": {},
     "output_type": "display_data"
    }
   ],
   "source": [
    "s_all = {}\n",
    "s_filtered = {}\n",
    "\n",
    "for year in result.salaries.keys():\n",
    "    s_all[year] = [result.salaries[year], result.count[year]]\n",
    "    s_filtered[year] = [result.salaries_vac[year], result.count_vac[year]]\n",
    "\n",
    "image_generator = Graph('Web-программист')\n",
    "image_generator.draw(\n",
    "    s_all,\n",
    "    s_filtered,\n",
    "    list(result.area_count),\n",
    "    list(result.area_sal.items()),\n",
    ")"
   ],
   "metadata": {
    "collapsed": false
   }
  },
  {
   "cell_type": "code",
   "execution_count": 12,
   "outputs": [],
   "source": [
    "\n",
    "def extract_skills(x, key, skill_dict):\n",
    "    skills = x['key_skills']\n",
    "\n",
    "    if not isinstance(skills, str): return\n",
    "\n",
    "    for skill in skills.split('\\n'):\n",
    "        skill_dict[key][skill] = skill_dict[key].get(skill, 0) + 1"
   ],
   "metadata": {
    "collapsed": false
   }
  },
  {
   "cell_type": "code",
   "execution_count": 13,
   "outputs": [],
   "source": [
    "skills_years = {}\n",
    "\n",
    "for result_year in data_arr:\n",
    "    filtered_year = result_year.filtered\n",
    "    skills_years[result_year.year] = {}\n",
    "    filtered_year.apply(lambda x: extract_skills(x, result_year.year, skills_years), axis=1)"
   ],
   "metadata": {
    "collapsed": false
   }
  },
  {
   "cell_type": "code",
   "execution_count": 14,
   "outputs": [
    {
     "name": "stdout",
     "output_type": "stream",
     "text": [
      "2008\n",
      "2020\n",
      "('JavaScript', 3146)\n",
      "('PHP', 2459)\n",
      "('CSS', 2222)\n",
      "('HTML', 2162)\n",
      "('MySQL', 2143)\n",
      "('jQuery', 1715)\n",
      "('Git', 1678)\n",
      "('HTML5', 1195)\n",
      "('1С-Битрикс', 1048)\n",
      "('CSS3', 931)\n",
      "2021\n",
      "('JavaScript', 1555)\n",
      "('PHP', 1170)\n",
      "('CSS', 1076)\n",
      "('MySQL', 1014)\n",
      "('HTML', 1006)\n",
      "('Git', 848)\n",
      "('jQuery', 760)\n",
      "('HTML5', 530)\n",
      "('1С-Битрикс', 480)\n",
      "('CSS3', 432)\n",
      "2009\n",
      "2022\n",
      "('PHP', 396)\n",
      "('JavaScript', 356)\n",
      "('HTML', 272)\n",
      "('MySQL', 268)\n",
      "('CSS', 256)\n",
      "('Git', 218)\n",
      "('jQuery', 161)\n",
      "('ООП', 155)\n",
      "('HTML5', 125)\n",
      "('1С-Битрикс', 122)\n",
      "2019\n",
      "('JavaScript', 3333)\n",
      "('PHP', 2806)\n",
      "('HTML', 2545)\n",
      "('CSS', 2453)\n",
      "('MySQL', 2084)\n",
      "('jQuery', 1980)\n",
      "('HTML5', 1564)\n",
      "('Git', 1530)\n",
      "('CSS3', 1193)\n",
      "('1С-Битрикс', 1169)\n",
      "2018\n",
      "('JavaScript', 3434)\n",
      "('PHP', 3192)\n",
      "('HTML', 2614)\n",
      "('MySQL', 2494)\n",
      "('CSS', 2484)\n",
      "('jQuery', 2162)\n",
      "('HTML5', 1837)\n",
      "('Git', 1557)\n",
      "('CSS3', 1353)\n",
      "('1С-Битрикс', 1178)\n",
      "2015\n",
      "('JavaScript', 699)\n",
      "('PHP', 696)\n",
      "('HTML', 553)\n",
      "('MySQL', 509)\n",
      "('CSS', 499)\n",
      "('HTML5', 479)\n",
      "('jQuery', 456)\n",
      "('CSS3', 421)\n",
      "('Ajax', 377)\n",
      "('PHP5', 311)\n",
      "2014\n",
      "2016\n",
      "('JavaScript', 1958)\n",
      "('PHP', 1737)\n",
      "('HTML', 1473)\n",
      "('CSS', 1293)\n",
      "('jQuery', 1289)\n",
      "('MySQL', 1289)\n",
      "('HTML5', 1176)\n",
      "('CSS3', 1001)\n",
      "('PHP5', 782)\n",
      "('Git', 762)\n",
      "2003\n",
      "2017\n",
      "('JavaScript', 2882)\n",
      "('PHP', 2575)\n",
      "('HTML', 2143)\n",
      "('CSS', 2103)\n",
      "('MySQL', 2014)\n",
      "('jQuery', 1835)\n",
      "('HTML5', 1539)\n",
      "('Git', 1214)\n",
      "('CSS3', 1111)\n",
      "('1С-Битрикс', 1045)\n",
      "2013\n",
      "2007\n",
      "2006\n",
      "2012\n",
      "2004\n",
      "2010\n",
      "2011\n",
      "2005\n"
     ]
    }
   ],
   "source": [
    "for year_skill in skills_years:\n",
    "    print(year_skill)\n",
    "    for s in list(sorted(skills_years[year_skill].items(), key=lambda x: -x[1]))[:10]:\n",
    "        print(s)"
   ],
   "metadata": {
    "collapsed": false
   }
  }
 ],
 "metadata": {
  "kernelspec": {
   "display_name": "Python 3",
   "language": "python",
   "name": "python3"
  },
  "language_info": {
   "codemirror_mode": {
    "name": "ipython",
    "version": 2
   },
   "file_extension": ".py",
   "mimetype": "text/x-python",
   "name": "python",
   "nbconvert_exporter": "python",
   "pygments_lexer": "ipython2",
   "version": "2.7.6"
  }
 },
 "nbformat": 4,
 "nbformat_minor": 0
}
